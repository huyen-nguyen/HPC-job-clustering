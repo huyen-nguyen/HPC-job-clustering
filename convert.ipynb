{
 "cells": [
  {
   "cell_type": "code",
   "execution_count": 3,
   "metadata": {},
   "outputs": [],
   "source": [
    "import pickle as pkl\n",
    "import pandas as pd\n",
    "with open(\"SelectedJobData_0801-1001.pkl\", \"rb\") as f:\n",
    "    object = pkl.load(f)\n",
    "    \n",
    "df = pd.DataFrame(object)\n",
    "df.to_csv(r'data.csv')"
   ]
  },
  {
   "cell_type": "code",
   "execution_count": 41,
   "metadata": {
    "collapsed": true,
    "jupyter": {
     "outputs_hidden": true,
     "source_hidden": true
    }
   },
   "outputs": [
    {
     "name": "stdout",
     "output_type": "stream",
     "text": [
      "['_id', 'group', 'owner', 'job_name', 'job_number', 'submission_time', 'start_time', 'end_time', 'mem', 'slots']\n"
     ]
    },
    {
     "data": {
      "text/html": [
       "<div>\n",
       "<style scoped>\n",
       "    .dataframe tbody tr th:only-of-type {\n",
       "        vertical-align: middle;\n",
       "    }\n",
       "\n",
       "    .dataframe tbody tr th {\n",
       "        vertical-align: top;\n",
       "    }\n",
       "\n",
       "    .dataframe thead th {\n",
       "        text-align: right;\n",
       "    }\n",
       "</style>\n",
       "<table border=\"1\" class=\"dataframe\">\n",
       "  <thead>\n",
       "    <tr style=\"text-align: right;\">\n",
       "      <th></th>\n",
       "      <th>_id</th>\n",
       "      <th>group</th>\n",
       "      <th>owner</th>\n",
       "      <th>job_name</th>\n",
       "      <th>job_number</th>\n",
       "      <th>submission_time</th>\n",
       "      <th>start_time</th>\n",
       "      <th>end_time</th>\n",
       "      <th>mem</th>\n",
       "      <th>slots</th>\n",
       "    </tr>\n",
       "  </thead>\n",
       "  <tbody>\n",
       "    <tr>\n",
       "      <th>0</th>\n",
       "      <td>ObjectId(5f24fe11c14d4f44f577352e)</td>\n",
       "      <td>phys</td>\n",
       "      <td>msanati</td>\n",
       "      <td>MPI_Test_Job</td>\n",
       "      <td>1925113</td>\n",
       "      <td>2020-07-30 07:15:06</td>\n",
       "      <td>2020-07-30 07:15:04</td>\n",
       "      <td>2020-08-01 05:29:36</td>\n",
       "      <td>2.921355e+07</td>\n",
       "      <td>108</td>\n",
       "    </tr>\n",
       "    <tr>\n",
       "      <th>1</th>\n",
       "      <td>ObjectId(5f24fe11c14d4f44f577352f)</td>\n",
       "      <td>phys</td>\n",
       "      <td>msanati</td>\n",
       "      <td>MPI_Test_Job</td>\n",
       "      <td>1925113</td>\n",
       "      <td>2020-07-30 07:15:06</td>\n",
       "      <td>2020-07-30 07:15:04</td>\n",
       "      <td>2020-08-01 05:29:36</td>\n",
       "      <td>2.918893e+07</td>\n",
       "      <td>108</td>\n",
       "    </tr>\n",
       "    <tr>\n",
       "      <th>2</th>\n",
       "      <td>ObjectId(5f24fe11c14d4f44f577352a)</td>\n",
       "      <td>chem</td>\n",
       "      <td>juandomi</td>\n",
       "      <td>phi_1-2.6</td>\n",
       "      <td>1927135</td>\n",
       "      <td>2020-08-01 02:08:08</td>\n",
       "      <td>2020-08-01 03:37:09</td>\n",
       "      <td>2020-08-01 05:26:28</td>\n",
       "      <td>8.201353e+05</td>\n",
       "      <td>36</td>\n",
       "    </tr>\n",
       "    <tr>\n",
       "      <th>3</th>\n",
       "      <td>ObjectId(5f24fe11c14d4f44f577352b)</td>\n",
       "      <td>chem</td>\n",
       "      <td>juandomi</td>\n",
       "      <td>phi_1-2.1</td>\n",
       "      <td>1927130</td>\n",
       "      <td>2020-08-01 02:08:02</td>\n",
       "      <td>2020-08-01 03:16:27</td>\n",
       "      <td>2020-08-01 05:26:54</td>\n",
       "      <td>9.722759e+05</td>\n",
       "      <td>36</td>\n",
       "    </tr>\n",
       "    <tr>\n",
       "      <th>4</th>\n",
       "      <td>ObjectId(5f24fe11c14d4f44f577352c)</td>\n",
       "      <td>ME</td>\n",
       "      <td>hge</td>\n",
       "      <td>Gm15ctc3</td>\n",
       "      <td>1927227</td>\n",
       "      <td>2020-08-01 05:09:45</td>\n",
       "      <td>2020-08-01 05:09:45</td>\n",
       "      <td>2020-08-01 05:29:16</td>\n",
       "      <td>8.610316e+05</td>\n",
       "      <td>72</td>\n",
       "    </tr>\n",
       "    <tr>\n",
       "      <th>...</th>\n",
       "      <td>...</td>\n",
       "      <td>...</td>\n",
       "      <td>...</td>\n",
       "      <td>...</td>\n",
       "      <td>...</td>\n",
       "      <td>...</td>\n",
       "      <td>...</td>\n",
       "      <td>...</td>\n",
       "      <td>...</td>\n",
       "      <td>...</td>\n",
       "    </tr>\n",
       "    <tr>\n",
       "      <th>457481</th>\n",
       "      <td>ObjectId(5f804788c14d4f0ff4b52a77)</td>\n",
       "      <td>bio</td>\n",
       "      <td>jenjense</td>\n",
       "      <td>FSC-UShist9</td>\n",
       "      <td>753735</td>\n",
       "      <td>2020-09-30 01:22:30</td>\n",
       "      <td>2020-10-09 05:00:04</td>\n",
       "      <td>2020-10-09 11:08:36</td>\n",
       "      <td>1.563953e+03</td>\n",
       "      <td>1</td>\n",
       "    </tr>\n",
       "    <tr>\n",
       "      <th>457482</th>\n",
       "      <td>ObjectId(5f820988c14d4f0ff4b93ce6)</td>\n",
       "      <td>bio</td>\n",
       "      <td>jenjense</td>\n",
       "      <td>FSC-USbott9</td>\n",
       "      <td>753732</td>\n",
       "      <td>2020-09-30 01:10:04</td>\n",
       "      <td>2020-10-10 05:00:36</td>\n",
       "      <td>2020-10-10 18:47:27</td>\n",
       "      <td>3.510346e+03</td>\n",
       "      <td>1</td>\n",
       "    </tr>\n",
       "    <tr>\n",
       "      <th>457483</th>\n",
       "      <td>ObjectId(5f819909c14d4f0ff4b83f17)</td>\n",
       "      <td>bio</td>\n",
       "      <td>jenjense</td>\n",
       "      <td>FSC-UShist8</td>\n",
       "      <td>753734</td>\n",
       "      <td>2020-09-30 01:19:44</td>\n",
       "      <td>2020-10-10 05:00:09</td>\n",
       "      <td>2020-10-10 11:12:08</td>\n",
       "      <td>1.579265e+03</td>\n",
       "      <td>1</td>\n",
       "    </tr>\n",
       "    <tr>\n",
       "      <th>457484</th>\n",
       "      <td>ObjectId(5f83af6ac14d4f0ff4bd2c85)</td>\n",
       "      <td>CEislam</td>\n",
       "      <td>rafiisla</td>\n",
       "      <td>ACE2-SGP.2.R18</td>\n",
       "      <td>1960585</td>\n",
       "      <td>2020-09-09 13:31:27</td>\n",
       "      <td>2020-10-11 11:58:26</td>\n",
       "      <td>2020-10-12 00:15:20</td>\n",
       "      <td>7.484000e-01</td>\n",
       "      <td>360</td>\n",
       "    </tr>\n",
       "    <tr>\n",
       "      <th>457485</th>\n",
       "      <td>ObjectId(5f82f898c14d4f0ff4bb5aed)</td>\n",
       "      <td>CEislam</td>\n",
       "      <td>rafiisla</td>\n",
       "      <td>ACE2-SGP.2.R17</td>\n",
       "      <td>1960584</td>\n",
       "      <td>2020-09-09 13:31:27</td>\n",
       "      <td>2020-10-11 05:00:28</td>\n",
       "      <td>2020-10-11 11:47:48</td>\n",
       "      <td>4.057000e-01</td>\n",
       "      <td>360</td>\n",
       "    </tr>\n",
       "  </tbody>\n",
       "</table>\n",
       "<p>457486 rows × 10 columns</p>\n",
       "</div>"
      ],
      "text/plain": [
       "                                       _id    group     owner        job_name  \\\n",
       "0       ObjectId(5f24fe11c14d4f44f577352e)     phys   msanati    MPI_Test_Job   \n",
       "1       ObjectId(5f24fe11c14d4f44f577352f)     phys   msanati    MPI_Test_Job   \n",
       "2       ObjectId(5f24fe11c14d4f44f577352a)     chem  juandomi       phi_1-2.6   \n",
       "3       ObjectId(5f24fe11c14d4f44f577352b)     chem  juandomi       phi_1-2.1   \n",
       "4       ObjectId(5f24fe11c14d4f44f577352c)       ME       hge        Gm15ctc3   \n",
       "...                                    ...      ...       ...             ...   \n",
       "457481  ObjectId(5f804788c14d4f0ff4b52a77)      bio  jenjense     FSC-UShist9   \n",
       "457482  ObjectId(5f820988c14d4f0ff4b93ce6)      bio  jenjense     FSC-USbott9   \n",
       "457483  ObjectId(5f819909c14d4f0ff4b83f17)      bio  jenjense     FSC-UShist8   \n",
       "457484  ObjectId(5f83af6ac14d4f0ff4bd2c85)  CEislam  rafiisla  ACE2-SGP.2.R18   \n",
       "457485  ObjectId(5f82f898c14d4f0ff4bb5aed)  CEislam  rafiisla  ACE2-SGP.2.R17   \n",
       "\n",
       "        job_number      submission_time           start_time  \\\n",
       "0          1925113  2020-07-30 07:15:06  2020-07-30 07:15:04   \n",
       "1          1925113  2020-07-30 07:15:06  2020-07-30 07:15:04   \n",
       "2          1927135  2020-08-01 02:08:08  2020-08-01 03:37:09   \n",
       "3          1927130  2020-08-01 02:08:02  2020-08-01 03:16:27   \n",
       "4          1927227  2020-08-01 05:09:45  2020-08-01 05:09:45   \n",
       "...            ...                  ...                  ...   \n",
       "457481      753735  2020-09-30 01:22:30  2020-10-09 05:00:04   \n",
       "457482      753732  2020-09-30 01:10:04  2020-10-10 05:00:36   \n",
       "457483      753734  2020-09-30 01:19:44  2020-10-10 05:00:09   \n",
       "457484     1960585  2020-09-09 13:31:27  2020-10-11 11:58:26   \n",
       "457485     1960584  2020-09-09 13:31:27  2020-10-11 05:00:28   \n",
       "\n",
       "                   end_time           mem  slots  \n",
       "0       2020-08-01 05:29:36  2.921355e+07    108  \n",
       "1       2020-08-01 05:29:36  2.918893e+07    108  \n",
       "2       2020-08-01 05:26:28  8.201353e+05     36  \n",
       "3       2020-08-01 05:26:54  9.722759e+05     36  \n",
       "4       2020-08-01 05:29:16  8.610316e+05     72  \n",
       "...                     ...           ...    ...  \n",
       "457481  2020-10-09 11:08:36  1.563953e+03      1  \n",
       "457482  2020-10-10 18:47:27  3.510346e+03      1  \n",
       "457483  2020-10-10 11:12:08  1.579265e+03      1  \n",
       "457484  2020-10-12 00:15:20  7.484000e-01    360  \n",
       "457485  2020-10-11 11:47:48  4.057000e-01    360  \n",
       "\n",
       "[457486 rows x 10 columns]"
      ]
     },
     "execution_count": 41,
     "metadata": {},
     "output_type": "execute_result"
    }
   ],
   "source": [
    "import csv\n",
    "import numpy as np\n",
    "import pandas as pd\n",
    "import datetime as dt\n",
    "\n",
    "# extract fields\n",
    "fields = ['_id', 'group', 'owner', 'job_name', 'job_number', 'slots', 'mem', 'submission_time', 'start_time', 'end_time']\n",
    "df = pd.read_csv('data/0_raw_data.csv', skipinitialspace=True, usecols=fields)\n",
    "\n",
    "# save to\n",
    "df.to_csv(r'data/1_selection_data.csv', index = False)\n",
    "\n",
    "df\n"
   ]
  },
  {
   "cell_type": "markdown",
   "metadata": {},
   "source": [
    "#### Show difference in time"
   ]
  },
  {
   "cell_type": "code",
   "execution_count": 99,
   "metadata": {},
   "outputs": [
    {
     "name": "stdout",
     "output_type": "stream",
     "text": [
      "['_id', 'group', 'owner', 'job_name', 'job_number', 'submission_time', 'start_time', 'end_time', 'mem', 'slots', 'queuetime', 'runtime']\n"
     ]
    }
   ],
   "source": [
    "# remove the incorrect records ------------------\n",
    "\n",
    "df = pd.read_csv(\"data/1_selection_data.csv\", parse_dates=True)\n",
    "\n",
    "# Tq = log( start_time - submit_time )\n",
    "df[\"queuetime\"] = (pd.to_datetime(df[\"start_time\"], format='%Y-%m-%d %H:%M:%S') - pd.to_datetime(df[\"submission_time\"], format='%Y-%m-%d %H:%M:%S')).dt.total_seconds()\n",
    "\n",
    "# Tr = log( end_time - start_time )\n",
    "df[\"runtime\"] = (pd.to_datetime(df[\"end_time\"], format='%Y-%m-%d %H:%M:%S') - pd.to_datetime(df[\"start_time\"], format='%Y-%m-%d %H:%M:%S')).dt.total_seconds()\n",
    "\n",
    "# Remove negative records and convert 0 -> 0.[0]1 ------------------\n",
    "\n",
    "df = df[(df.mem >= 0.0) & (df.slots >= 0.0) & (df.queuetime >= 0.0) & (df.runtime >= 0.0)]\n",
    "\n",
    "df.to_csv(r'data/2_non_neg.csv', index = False)\n",
    "\n",
    "print(df.columns.tolist())"
   ]
  },
  {
   "cell_type": "code",
   "execution_count": 109,
   "metadata": {},
   "outputs": [],
   "source": [
    "from pandas import read_csv\n",
    "from pandas import DataFrame\n",
    "from pandas.plotting import scatter_matrix\n",
    "from sklearn.preprocessing import StandardScaler\n",
    "\n",
    "attr = ['mem', 'slots', 'queuetime', 'runtime']\n",
    "\n",
    "df[\"slots\"] = df[\"slots\"] / 36\n",
    "\n",
    "# retrieve just the numeric input values\n",
    "data = df[attr].to_numpy()\n",
    "\n",
    "# perform a robust scaler transform of the dataset\n",
    "trans = StandardScaler()\n",
    "data = trans.fit_transform(data)\n",
    "\n",
    "# convert the array back to a dataframe\n",
    "dataset = DataFrame(data)\n",
    "\n",
    "features = ['N_n', 'M_u', 'T_q', 'T_r']\n",
    "\n",
    "dataset.columns = features\n",
    "\n",
    "dataset.to_csv(r'data/scaled.csv', index = False)"
   ]
  },
  {
   "cell_type": "markdown",
   "metadata": {},
   "source": [
    "#### Just data"
   ]
  },
  {
   "cell_type": "code",
   "execution_count": 110,
   "metadata": {},
   "outputs": [],
   "source": [
    "from pandas import read_csv\n",
    "from pandas import DataFrame\n",
    "from pandas.plotting import scatter_matrix\n",
    "from sklearn.preprocessing import StandardScaler\n",
    "\n",
    "df = pd.read_csv(\"data/2_non_neg.csv\", parse_dates=True)\n",
    "\n",
    "attr = ['mem', 'slots', 'queuetime', 'runtime']\n",
    "\n",
    "df[\"slots\"] = df[\"slots\"] / 36\n",
    "\n",
    "# retrieve just the numeric input values\n",
    "data = df[attr].to_numpy()\n",
    "\n",
    "# convert the array back to a dataframe\n",
    "dataset = DataFrame(data)\n",
    "\n",
    "features = ['N_n', 'M_u', 'T_q', 'T_r']\n",
    "\n",
    "dataset.columns = features\n",
    "\n",
    "dataset.to_csv(r'data/data.csv', index = False)"
   ]
  },
  {
   "cell_type": "markdown",
   "metadata": {},
   "source": [
    "#### Log"
   ]
  },
  {
   "cell_type": "code",
   "execution_count": 106,
   "metadata": {},
   "outputs": [
    {
     "name": "stdout",
     "output_type": "stream",
     "text": [
      "['_id', 'group', 'owner', 'job_name', 'job_number', 'N_n', 'M_u', 'T_q', 'T_r']\n"
     ]
    }
   ],
   "source": [
    "# read data\n",
    "df = pd.read_csv(\"data/2_non_neg.csv\", parse_dates=True)\n",
    "\n",
    "df = df.replace([0],0.0000000001)\n",
    "\n",
    "# Nn = log( nproc/Cn )\n",
    "df[\"N_n\"] = np.log(df[\"slots\"]/36)\n",
    "\n",
    "# Mu = log( mem_used )\n",
    "df[\"M_u\"] = np.log(df[\"mem\"])\n",
    "\n",
    "# Tq = log( start_time - submit_time )\n",
    "df[\"T_q\"] = np.log(df[\"queuetime\"])\n",
    "\n",
    "# Tr = log( end_time - start_time )\n",
    "df[\"T_r\"] = np.log(df[\"runtime\"])\n",
    "\n",
    "df.drop(['submission_time', 'start_time', 'end_time', 'mem', 'slots', 'queuetime', 'runtime'], inplace=True, axis=1)\n",
    "\n",
    "df.to_csv(r'data/log_data.csv', index = False)\n",
    "\n",
    "print(df.columns.tolist())\n"
   ]
  },
  {
   "cell_type": "markdown",
   "metadata": {},
   "source": [
    "#### Helper functions"
   ]
  },
  {
   "cell_type": "code",
   "execution_count": 34,
   "metadata": {},
   "outputs": [
    {
     "data": {
      "text/plain": [
       "group                              AFS\n",
       "owner                         aagudelo\n",
       "job_name                            A1\n",
       "job_number                      749322\n",
       "submission_time    2020-07-23 15:16:18\n",
       "start_time         2020-07-27 22:14:54\n",
       "end_time           2020-08-01 00:00:38\n",
       "mem                             0.0001\n",
       "slots                                1\n",
       "N_nodes                       -3.58352\n",
       "dtype: object"
      ]
     },
     "execution_count": 34,
     "metadata": {},
     "output_type": "execute_result"
    }
   ],
   "source": [
    "# find the lowest non-zero\n",
    "df[df['mem'].gt(0)].min()"
   ]
  },
  {
   "cell_type": "code",
   "execution_count": 82,
   "metadata": {},
   "outputs": [
    {
     "name": "stdout",
     "output_type": "stream",
     "text": [
      "2020-07-30 07:15:04 2020-07-30 07:15:06\n",
      "-1 day, 23:59:58\n"
     ]
    }
   ],
   "source": [
    "# subtract date time\n",
    "import datetime as dt\n",
    "\n",
    "start = job_accounting[\"start_time\"][0]\n",
    "submit = job_accounting[\"submission_time\"][0]\n",
    "print(start, submit)\n",
    "\n",
    "a = dt.datetime.strptime(start, '%Y-%m-%d %H:%M:%S')\n",
    "b = dt.datetime.strptime(submit, '%Y-%m-%d %H:%M:%S')\n",
    "\n",
    "print(a-b)"
   ]
  },
  {
   "cell_type": "code",
   "execution_count": 65,
   "metadata": {},
   "outputs": [],
   "source": [
    "import pandas as pd\n",
    "# Smaller data\n",
    "\n",
    "rows = 5000\n",
    "\n",
    "df1 = pd.read_csv(\"data/2_non_neg.csv\", skipinitialspace=True)\n",
    "df1['id'] = df1['group'] + \"_\" + df1['_id'].str.slice(-5,-1)  \n",
    "df1a = df1['id'].head(rows)\n",
    "\n",
    "df2 = pd.read_csv(\"data/data_all.csv\", skipinitialspace=True)\n",
    "df2 = df2.head(rows)\n",
    "\n",
    "df3 = pd.concat([df1a, df2], axis=1, ignore_index=True)\n",
    "df3.columns = ['name', 'N_n', 'M_u', 'T_q', 'T_r']\n",
    "\n",
    "df3.to_csv(r'data/data.csv', index = False)\n",
    "\n"
   ]
  },
  {
   "cell_type": "code",
   "execution_count": 53,
   "metadata": {},
   "outputs": [
    {
     "data": {
      "text/plain": [
       "'352f'"
      ]
     },
     "execution_count": 53,
     "metadata": {},
     "output_type": "execute_result"
    }
   ],
   "source": [
    "import pandas as pd\n",
    "\n",
    "df = pd.read_csv('data/1_selection_data.csv', skipinitialspace=True)\n",
    "\n",
    "df['_id'][1][-5:-1]\n",
    "# pd.unique(df['owner']).size"
   ]
  },
  {
   "cell_type": "code",
   "execution_count": 71,
   "metadata": {},
   "outputs": [
    {
     "data": {
      "text/plain": [
       "0"
      ]
     },
     "execution_count": 71,
     "metadata": {},
     "output_type": "execute_result"
    }
   ],
   "source": [
    "df = pd.read_csv('data/data.csv', skipinitialspace=True)\n",
    "\n",
    "df[~df.name.str.contains('\\w')].name.count()"
   ]
  },
  {
   "cell_type": "code",
   "execution_count": null,
   "metadata": {},
   "outputs": [],
   "source": []
  }
 ],
 "metadata": {
  "kernelspec": {
   "display_name": "Python 3",
   "language": "python",
   "name": "python3"
  },
  "language_info": {
   "codemirror_mode": {
    "name": "ipython",
    "version": 3
   },
   "file_extension": ".py",
   "mimetype": "text/x-python",
   "name": "python",
   "nbconvert_exporter": "python",
   "pygments_lexer": "ipython3",
   "version": "3.7.6"
  }
 },
 "nbformat": 4,
 "nbformat_minor": 4
}
