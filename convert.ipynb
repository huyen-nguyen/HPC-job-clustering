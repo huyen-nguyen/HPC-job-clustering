{
 "cells": [
  {
   "cell_type": "code",
   "execution_count": 3,
   "metadata": {},
   "outputs": [],
   "source": [
    "import pickle as pkl\n",
    "import pandas as pd\n",
    "with open(\"SelectedJobData_0801-1001.pkl\", \"rb\") as f:\n",
    "    object = pkl.load(f)\n",
    "    \n",
    "df = pd.DataFrame(object)\n",
    "df.to_csv(r'data.csv')"
   ]
  },
  {
   "cell_type": "code",
   "execution_count": 9,
   "metadata": {},
   "outputs": [],
   "source": [
    "import pandas as pd\n",
    "\n",
    "# extract fields\n",
    "fields = ['_id', 'group', 'owner', 'job_name', 'job_number', 'slots', 'mem', 'submission_time', 'start_time', 'end_time']\n",
    "df = pd.read_csv('data/raw_data.csv', skipinitialspace=True, usecols=fields)\n",
    "\n",
    "# save to\n",
    "df.to_csv(r'data/data.csv', index = False)\n"
   ]
  },
  {
   "cell_type": "markdown",
   "metadata": {},
   "source": [
    "#### Main"
   ]
  },
  {
   "cell_type": "code",
   "execution_count": 100,
   "metadata": {},
   "outputs": [
    {
     "name": "stdout",
     "output_type": "stream",
     "text": [
      "Natural logarithm of 14 is : 1.0986122886681098\n"
     ]
    }
   ],
   "source": [
    "import numpy as np\n",
    "import datetime as dt\n",
    "\n",
    "\n",
    "# Printing the log base e of 14\n",
    "print (\"Natural logarithm of 14 is : \", end=\"\")\n",
    "print (math.log(3))\n",
    "\n",
    "job_accounting = pd.read_csv(\"data/data.csv\", index_col=0, parse_dates=True)\n",
    "\n",
    "# Nn = log( nproc/Cn )\n",
    "job_accounting[\"N_n\"] = np.log(job_accounting[\"slots\"] / 36)\n",
    "\n",
    "# ---- replace zero values by a smaller number than the lowest non-zero\n",
    "job_accounting.loc[job_accounting.mem == 0, 'mem'] = 0.0000000000001\n",
    "\n",
    "# Mu = log( mem_used )\n",
    "job_accounting[\"M_u\"] = np.log(job_accounting[\"mem\"])\n",
    "\n",
    "# Tq = log( start_time - submit_time )\n",
    "job_accounting[\"T_q\"] = np.log((pd.to_datetime(job_accounting[\"start_time\"], format='%Y-%m-%d %H:%M:%S') - pd.to_datetime(job_accounting[\"submission_time\"], format='%Y-%m-%d %H:%M:%S')).dt.total_seconds())\n",
    "\n",
    "# Tr = log( end_time - start_time )\n",
    "job_accounting[\"T_r\"] = np.log((pd.to_datetime(job_accounting[\"end_time\"], format='%Y-%m-%d %H:%M:%S') - pd.to_datetime(job_accounting[\"start_time\"], format='%Y-%m-%d %H:%M:%S')).dt.total_seconds())\n",
    "\n",
    "job_accounting.to_csv(r'data/derived_data.csv', index = False)\n"
   ]
  },
  {
   "cell_type": "code",
   "execution_count": 34,
   "metadata": {},
   "outputs": [
    {
     "data": {
      "text/plain": [
       "group                              AFS\n",
       "owner                         aagudelo\n",
       "job_name                            A1\n",
       "job_number                      749322\n",
       "submission_time    2020-07-23 15:16:18\n",
       "start_time         2020-07-27 22:14:54\n",
       "end_time           2020-08-01 00:00:38\n",
       "mem                             0.0001\n",
       "slots                                1\n",
       "N_nodes                       -3.58352\n",
       "dtype: object"
      ]
     },
     "execution_count": 34,
     "metadata": {},
     "output_type": "execute_result"
    }
   ],
   "source": [
    "# find the lowest non-zero\n",
    "job_accounting[job_accounting['mem'].gt(0)].min()"
   ]
  },
  {
   "cell_type": "code",
   "execution_count": 82,
   "metadata": {},
   "outputs": [
    {
     "name": "stdout",
     "output_type": "stream",
     "text": [
      "2020-07-30 07:15:04 2020-07-30 07:15:06\n",
      "-1 day, 23:59:58\n"
     ]
    }
   ],
   "source": [
    "# subtract date time\n",
    "import datetime as dt\n",
    "\n",
    "start = job_accounting[\"start_time\"][0]\n",
    "submit = job_accounting[\"submission_time\"][0]\n",
    "print(start, submit)\n",
    "\n",
    "a = dt.datetime.strptime(start, '%Y-%m-%d %H:%M:%S')\n",
    "b = dt.datetime.strptime(submit, '%Y-%m-%d %H:%M:%S')\n",
    "\n",
    "print(a-b)"
   ]
  },
  {
   "cell_type": "code",
   "execution_count": null,
   "metadata": {},
   "outputs": [],
   "source": []
  }
 ],
 "metadata": {
  "kernelspec": {
   "display_name": "Python 3",
   "language": "python",
   "name": "python3"
  },
  "language_info": {
   "codemirror_mode": {
    "name": "ipython",
    "version": 3
   },
   "file_extension": ".py",
   "mimetype": "text/x-python",
   "name": "python",
   "nbconvert_exporter": "python",
   "pygments_lexer": "ipython3",
   "version": "3.7.6"
  }
 },
 "nbformat": 4,
 "nbformat_minor": 4
}
