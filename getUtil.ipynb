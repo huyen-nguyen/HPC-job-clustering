{
 "cells": [
  {
   "cell_type": "code",
   "execution_count": null,
   "metadata": {},
   "outputs": [],
   "source": [
    "import os\n",
    "import glob\n",
    "import pandas as pd\n",
    "os.chdir(\"JobClusteringDataset\")"
   ]
  },
  {
   "cell_type": "markdown",
   "metadata": {},
   "source": [
    "## merge to one csv"
   ]
  },
  {
   "cell_type": "code",
   "execution_count": 3,
   "metadata": {},
   "outputs": [],
   "source": [
    "extension = 'csv'\n",
    "all_filenames = [i for i in glob.glob('*.{}'.format(extension))]"
   ]
  },
  {
   "cell_type": "code",
   "execution_count": 4,
   "metadata": {},
   "outputs": [],
   "source": [
    "#combine all files in the list\n",
    "combined_csv = pd.concat([pd.read_csv(f) for f in all_filenames ])\n",
    "#export to csv\n",
    "combined_csv.to_csv( \"combined_csv.csv\", index=False, encoding='utf-8-sig')"
   ]
  },
  {
   "cell_type": "code",
   "execution_count": 5,
   "metadata": {},
   "outputs": [],
   "source": [
    "df = pd.read_csv(\"combined.csv\", parse_dates=True)"
   ]
  },
  {
   "cell_type": "code",
   "execution_count": 6,
   "metadata": {},
   "outputs": [
    {
     "data": {
      "text/plain": [
       "0.7338514295970674"
      ]
     },
     "execution_count": 6,
     "metadata": {},
     "output_type": "execute_result"
    }
   ],
   "source": [
    "df['cpu_usage'].mean()"
   ]
  },
  {
   "cell_type": "code",
   "execution_count": 7,
   "metadata": {},
   "outputs": [
    {
     "data": {
      "text/plain": [
       "1.0"
      ]
     },
     "execution_count": 7,
     "metadata": {},
     "output_type": "execute_result"
    }
   ],
   "source": [
    "df['slots'].min()"
   ]
  },
  {
   "cell_type": "code",
   "execution_count": 8,
   "metadata": {},
   "outputs": [
    {
     "data": {
      "text/plain": [
       "array(['rafiisla', 'gufeng', 'esowell', 'malooney', 'bancell', 'sisliang',\n",
       "       'yuxyao', 'aucolema', 'abkenyon', 'jmanthey', 'jchundur',\n",
       "       'johruska', 'ewang', 'xiaopson', 'ssukumar', 'rmuthuku',\n",
       "       'iarsenea', 'nhu', 'npaulat', 'smeeks', 'megrowe', 'rshim',\n",
       "       'dmorenos', 'kevsulli', 'shwong', 'briasand', 'ppanko', 'ramtorre',\n",
       "       'kaafroz', 'rnieman', 'dashoema', 'aferdous', 'sabdolla',\n",
       "       'simransi', 'miivanov', 'yannchen', 'mhalsey', 'hge', 'bgoonapi',\n",
       "       'cpokorny', 'daray', 'pmangat', 'bpeterma', 'tletbett', 'jbaishya',\n",
       "       'kalbrach', 'tariisla', 'brameado', 'prdawar', 'rhubley',\n",
       "       'gpagnozz', 'hweligod', 'jepetter', 'emilwrig', 'jbatemen',\n",
       "       'minguo', 'dgambhir', 'olbello', 'shidalal', 'svrla', 'clabarre',\n",
       "       'rirising', 'jajurado', 'swmandal', 'apruthi', 'jaayub',\n",
       "       'cvanbeek', 'jenjense', 'gmoallem', 'rmerrima', 'crock', 'lee71',\n",
       "       'ugulbula', 'thomasbr', 'gpinesch', 'andhingr', 'caphilli',\n",
       "       'nwijaya', 'xiyali', 'anksaha', 'nramanat', 'rwiedmie', 'jitu',\n",
       "       'root', 'pnourian', 'mriosbla', 'iscottfl', 'rabdhaka', 'rlahowet',\n",
       "       'aosmansk', 'myosofva', 'brodwill', 'abdumali', 'aschueth',\n",
       "       'jieyao', 'euoh', 'zhansen', 'ccrooksh', 'jacqurob', 'ngu09790',\n",
       "       'jkorstia', 'arnghosh', 'bjayee', 'jesuacun', 'mgurusam',\n",
       "       'maolson', 'uozuguze', 'mahmadia', 'gjin', 'atindsin', 'hamahmud',\n",
       "       'svaca', 'mabuxton', 'lindsawi', 'lakirsch', 'kattri', 'bradobbs',\n",
       "       'iwijewar', 'sthigpen', 'ddecastr', 'obazgir', 'hefonsek',\n",
       "       'emontene', 'ruibzhan', 'jonmadde', 'chturner', 'kadufern',\n",
       "       'twixtrom', 'thanhbui', 'sdhruba', 'aaqdas', 'kadhillo',\n",
       "       'emasoumz', 'micvande', 'hyunskim', 'wenjinzh', 'kel24221',\n",
       "       'abdulals', 'rmanser', 'yonchen', 'tho20826', 'zhang56',\n",
       "       'natturne', 'lkaur', 'csriniva', 'tpeltola', 'mmcclung',\n",
       "       'npatange', 'sbacchu', 'bdonet', 'alschulz', 'jwillgru', 'kafroz',\n",
       "       'jegenbac', 'kalloyd', 'thsiever', 'apuradam', 'luo32247',\n",
       "       'isimpson', 'apingo', 'papawar', 'jasigler', 'ronjoshi', 'cballew',\n",
       "       'xinyali', 'hbyna', 'sisadegh', 'nstoddar', 'mdmia', 'aaquino',\n",
       "       'doguo', 'ipandey', 'ram26356', 'soverma', 'kaimyers', 'ssami',\n",
       "       'wang41', 'bobarrag', 'jzahn', 'nzaragoz', 'ddocimo', 'lbosong',\n",
       "       'jaehoonl', 'shrchen', 'jdendy', 'mdfazad', 'ssagala', 'hsihaloh',\n",
       "       'ada99346', 'jancira', 'seungmki', 'rod93306', 'aderezen',\n",
       "       'pankaj', 'jinhuang', 'asheikhz', 'nperalta', 'sabbhass',\n",
       "       'edgardga', 'melmassr', 'tkhanam', 'rrakshit', 'uhamid',\n",
       "       'ludacost', 'smonte', 'gussilva', 'xu95646', 'presmcdo',\n",
       "       'aagudelo', 'tobollin', 'lfuernis', 'mamalek', 'kcushman',\n",
       "       'deugwa', 'hdeselle', 'jowahl', 'kirandol', 'erutayom', 'erivasqu',\n",
       "       'brandoni', 'mclewis', 'astoner', 'khayhoe', 'jafortun',\n",
       "       'jasmalma', 'jagkaur', 'corosing', 'wkastor', 'dpequeen',\n",
       "       'wabakama', 'ngu29355', 'twelty', 'masel', 'swalley', 'jdufort',\n",
       "       'roberesp', 'mhamel', 'lbunting', 'mianand', 'jdossant',\n",
       "       'eventeic', 'aalynn', 'lediaz', 'shahrahm', 'mmajumde', 'janfisch',\n",
       "       'shtanvee', 'gcapodag', 'stepcouc', 'cuqihong', 'zha98475',\n",
       "       'dsundara', 'thongle', 'msanati', 'wil14720', 'jjerke', 'fazhussa',\n",
       "       'wan39502', 'jinxie', 'johdahl', 'tivincen', 'debodas', 'juandomi',\n",
       "       'dtarter', 'nayshah', 'yejung', 'prkumar', 'cbryson', 'vicesali',\n",
       "       'anavleka', 'rabadlim', 'snafees', 'akitazum', 'fmolajaf',\n",
       "       'samoradi', 'nadmalik', 'liu96340', 'asravich', 'jsarka', 'estout',\n",
       "       'eisilva', 'rosutton', 'acozzoli', 'li29729', 'smoaven', 'stahmid',\n",
       "       'anbrar', 'lalindse', 'alghasem', 'xiaolshe', 'bdankesr',\n",
       "       'zhoyang', 'jimchun', 'lancolli', 'npalliya', 'zboswell', 'dpimbi',\n",
       "       'christan', 'rlongo', 'jessmcdo', 'adegbalo', 'dechakra',\n",
       "       'shassanj', 'omaalsal', 'madelbro', 'madwagne', 'aredwan',\n",
       "       'rkhare', 'jkolla', 'elearodr', 'sdominy', 'qiyluo', 'jeflance',\n",
       "       'iseason', 'dbuchhei', 'tay50072', 'npaladin', 'anwalie',\n",
       "       'gbakliwa', 'granhall', 'jndimele', 'dystuart', 'dnefstea',\n",
       "       'emmarobe', 'junxzhan', 'btahmour', 'hwadhwan', 'muhazama',\n",
       "       'zhu40264', 'brashoem', 'proemsri', 'emansell', 'lowilks',\n",
       "       'lielling', 'war94577', 'rmehra', 'vinhtngu', 'jacobfis',\n",
       "       'rshukre', 'nroskens', 'acouliba', 'errees', 'arakos', 'jeyou',\n",
       "       'ryatkins', 'melsumme', 'leiward', 'jiayyan', 'trpeters',\n",
       "       'lupinhei', 'mridley', 'culin', 'didossan', 'dbacklun', 'jbaus',\n",
       "       'cnwauche', 'alyelizo', 'abmasud', 'wang72', 'artjones',\n",
       "       'stalukde', 'qzhai', 'eantohi', 'brajbhan', 'erwalden', 'llindblo',\n",
       "       'brburgha', 'bchidmi', 'bithapal', 'kmursi', 'matapatt',\n",
       "       'lin79316', 'momary', 'benjowen', 'ankipand', 'skunori',\n",
       "       'cristmor', 'awhitbec', 'huyevu', 'mnateqi', 'jagunati', 'tmengke',\n",
       "       'qinyuan', 'jnoltens', 'smuthumu', 'perez90', 'sshanto', 'htun',\n",
       "       'mdiekhan', 'yijiao', 'renandra', 'aluecke', 'ruiqliu', 'sojkwon',\n",
       "       'yangyu', 'limiyamo'], dtype=object)"
      ]
     },
     "execution_count": 8,
     "metadata": {},
     "output_type": "execute_result"
    }
   ],
   "source": [
    "df['owner'].unique()"
   ]
  },
  {
   "cell_type": "code",
   "execution_count": 9,
   "metadata": {},
   "outputs": [
    {
     "data": {
      "text/plain": [
       "smuthumu    238151\n",
       "skunori     119080\n",
       "mdiekhan    114052\n",
       "rhubley      51612\n",
       "abdumali     29825\n",
       "             ...  \n",
       "jbaus            1\n",
       "aluecke          1\n",
       "htun             1\n",
       "kirandol         1\n",
       "artjones         1\n",
       "Name: owner, Length: 396, dtype: int64"
      ]
     },
     "execution_count": 9,
     "metadata": {},
     "output_type": "execute_result"
    }
   ],
   "source": [
    "df['owner'].value_counts()"
   ]
  }
 ],
 "metadata": {
  "kernelspec": {
   "display_name": "Python 3",
   "language": "python",
   "name": "python3"
  },
  "language_info": {
   "codemirror_mode": {
    "name": "ipython",
    "version": 3
   },
   "file_extension": ".py",
   "mimetype": "text/x-python",
   "name": "python",
   "nbconvert_exporter": "python",
   "pygments_lexer": "ipython3",
   "version": "3.7.6"
  }
 },
 "nbformat": 4,
 "nbformat_minor": 4
}
